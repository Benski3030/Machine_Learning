{
 "cells": [
  {
   "cell_type": "markdown",
   "metadata": {},
   "source": [
    "# Solving Problems Statistically v. Computationally"
   ]
  },
  {
   "cell_type": "markdown",
   "metadata": {},
   "source": []
  },
  {
   "cell_type": "markdown",
   "metadata": {},
   "source": [
    "Randomly generate data for a population with a mean of 10 and standard deviation of 1.  Then randomly sample 50 units from this same population without replacement."
   ]
  },
  {
   "cell_type": "code",
   "execution_count": 1,
   "metadata": {
    "collapsed": true
   },
   "outputs": [],
   "source": [
    "pop <- rnorm(100000, 10, 1)\n",
    "pop_samp <- sample(pop, 50, replace = F)"
   ]
  },
  {
   "cell_type": "markdown",
   "metadata": {},
   "source": [
    "Create a function to calculate the 95% confidence interval from scratch using Student's T distribution. Using this formula:\n",
    "\n"
   ]
  },
  {
   "cell_type": "code",
   "execution_count": 2,
   "metadata": {
    "collapsed": true
   },
   "outputs": [],
   "source": [
    "confidence_interval <- function(x) {\n",
    "  n <- length(x) #sample size \n",
    "  samp_mean <- mean(x) #sample mean\n",
    "  st_dev <- sd(x) #sample standard deviation\n",
    "  st_err <- st_dev / sqrt(n) #standard error of the sample mean\n",
    "  ci <- qt(.975, df = n-1) * st_err #confidence interval bound\n",
    "  LCL <- samp_mean - ci  #lower confidence interval\n",
    "  UCL <- samp_mean + ci #upper confidence interval\n",
    "  results <- list(LCL = LCL, sample_mean = samp_mean, UCL = UCL) #compile to a list\n",
    "  return(results) #print the list\n",
    "}"
   ]
  },
  {
   "cell_type": "markdown",
   "metadata": {},
   "source": [
    "Create a function to simulate the bootstrap."
   ]
  },
  {
   "cell_type": "code",
   "execution_count": 3,
   "metadata": {
    "collapsed": true
   },
   "outputs": [],
   "source": [
    "sampling_eng <- function(x, n_samples = 10000) {\n",
    "  results <- c() #empty vector for the simulation results\n",
    "  n <- length(x) #sample size\n",
    "  samp_range <- seq(1, n_samples) #sampling range\n",
    "  for (i in seq_along(samp_range)) { #for loop\n",
    "    samp <- sample(x, n, replace = T) #sample from the sample with replacement\n",
    "    samp_mean <- mean(samp) #calucated the sampled mean\n",
    "    results <- append(results, samp_mean) #append the results to a vector\n",
    "  }\n",
    "  results_mu <- mean(results) #caculcate the sample of resamples mean\n",
    "  results_sd <- sd(results) #calculate the standard deviation of the resamples\n",
    "  UCL <- results_mu + (2 * results_sd) #two standard deviations up\n",
    "  LCL <- results_mu - (2 * results_sd) #two standard deviations down\n",
    "  results_update <- list(boot_LCL = LCL, boot_sample_mean = results_mu, boot_UCL = UCL) #compile to a list\n",
    "  return(results_update) #print the list\n",
    "}"
   ]
  },
  {
   "cell_type": "markdown",
   "metadata": {},
   "source": [
    "View the results."
   ]
  },
  {
   "cell_type": "code",
   "execution_count": 4,
   "metadata": {
    "collapsed": false
   },
   "outputs": [
    {
     "data": {
      "text/html": [
       "<dl>\n",
       "\t<dt>$boot_LCL</dt>\n",
       "\t\t<dd>9.97718524721406</dd>\n",
       "\t<dt>$boot_sample_mean</dt>\n",
       "\t\t<dd>10.2676391941124</dd>\n",
       "\t<dt>$boot_UCL</dt>\n",
       "\t\t<dd>10.5580931410107</dd>\n",
       "</dl>\n"
      ],
      "text/latex": [
       "\\begin{description}\n",
       "\\item[\\$boot\\_LCL] 9.97718524721406\n",
       "\\item[\\$boot\\_sample\\_mean] 10.2676391941124\n",
       "\\item[\\$boot\\_UCL] 10.5580931410107\n",
       "\\end{description}\n"
      ],
      "text/markdown": [
       "$boot_LCL\n",
       ":   9.97718524721406\n",
       "$boot_sample_mean\n",
       ":   10.2676391941124\n",
       "$boot_UCL\n",
       ":   10.5580931410107\n",
       "\n",
       "\n"
      ],
      "text/plain": [
       "$boot_LCL\n",
       "[1] 9.977185\n",
       "\n",
       "$boot_sample_mean\n",
       "[1] 10.26764\n",
       "\n",
       "$boot_UCL\n",
       "[1] 10.55809\n"
      ]
     },
     "metadata": {},
     "output_type": "display_data"
    },
    {
     "data": {
      "text/html": [
       "<dl>\n",
       "\t<dt>$LCL</dt>\n",
       "\t\t<dd>9.97443487783435</dd>\n",
       "\t<dt>$sample_mean</dt>\n",
       "\t\t<dd>10.2680074171283</dd>\n",
       "\t<dt>$UCL</dt>\n",
       "\t\t<dd>10.5615799564222</dd>\n",
       "</dl>\n"
      ],
      "text/latex": [
       "\\begin{description}\n",
       "\\item[\\$LCL] 9.97443487783435\n",
       "\\item[\\$sample\\_mean] 10.2680074171283\n",
       "\\item[\\$UCL] 10.5615799564222\n",
       "\\end{description}\n"
      ],
      "text/markdown": [
       "$LCL\n",
       ":   9.97443487783435\n",
       "$sample_mean\n",
       ":   10.2680074171283\n",
       "$UCL\n",
       ":   10.5615799564222\n",
       "\n",
       "\n"
      ],
      "text/plain": [
       "$LCL\n",
       "[1] 9.974435\n",
       "\n",
       "$sample_mean\n",
       "[1] 10.26801\n",
       "\n",
       "$UCL\n",
       "[1] 10.56158\n"
      ]
     },
     "metadata": {},
     "output_type": "display_data"
    }
   ],
   "source": [
    "sampling_eng(pop_samp, n_samples = 10000)\n",
    "confidence_interval(pop_samp)"
   ]
  },
  {
   "cell_type": "markdown",
   "metadata": {},
   "source": [
    "Compare to the confidence interval calculated from the base t-test function. "
   ]
  },
  {
   "cell_type": "code",
   "execution_count": 5,
   "metadata": {
    "collapsed": false
   },
   "outputs": [
    {
     "data": {
      "text/plain": [
       "\n",
       "\tOne Sample t-test\n",
       "\n",
       "data:  pop_samp\n",
       "t = 1.8346, df = 49, p-value = 0.07264\n",
       "alternative hypothesis: true mean is not equal to 10\n",
       "95 percent confidence interval:\n",
       "  9.974435 10.561580\n",
       "sample estimates:\n",
       "mean of x \n",
       " 10.26801 \n"
      ]
     },
     "metadata": {},
     "output_type": "display_data"
    }
   ],
   "source": [
    "t.test(pop_samp,mu = 10)"
   ]
  },
  {
   "cell_type": "code",
   "execution_count": null,
   "metadata": {
    "collapsed": true
   },
   "outputs": [],
   "source": []
  }
 ],
 "metadata": {
  "kernelspec": {
   "display_name": "R",
   "language": "R",
   "name": "ir"
  },
  "language_info": {
   "codemirror_mode": "r",
   "file_extension": ".r",
   "mimetype": "text/x-r-source",
   "name": "R",
   "pygments_lexer": "r",
   "version": "3.3.0"
  }
 },
 "nbformat": 4,
 "nbformat_minor": 0
}
